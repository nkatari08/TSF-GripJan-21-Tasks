{
  "nbformat": 4,
  "nbformat_minor": 0,
  "metadata": {
    "colab": {
      "name": "task1.ipynb",
      "provenance": [],
      "collapsed_sections": []
    },
    "kernelspec": {
      "name": "python3",
      "display_name": "Python 3"
    }
  },
  "cells": [
    {
      "cell_type": "markdown",
      "metadata": {
        "id": "-yJjhCl_6u4h"
      },
      "source": [
        "# TASK 1 \n",
        "Predicting the score of a student based on the number of study hours . "
      ]
    },
    {
      "cell_type": "code",
      "metadata": {
        "id": "eUKvJ7tYqXtJ"
      },
      "source": [
        ""
      ],
      "execution_count": null,
      "outputs": []
    },
    {
      "cell_type": "markdown",
      "metadata": {
        "id": "JGPwXWRqkaBb"
      },
      "source": [
        "1. Import Libraries"
      ]
    },
    {
      "cell_type": "code",
      "metadata": {
        "colab": {
          "base_uri": "https://localhost:8080/",
          "height": 204
        },
        "id": "dx3KTcOv3EU1",
        "outputId": "29cb6558-5779-4708-be48-8ea98a6506ed"
      },
      "source": [
        "import pandas as pd\n",
        "import numpy as np\n",
        "import matplotlib.pyplot as plt\n",
        "\n",
        "#read data\n",
        "url = \"http://bit.ly/w-data\" #dataset\n",
        "data = pd.read_csv(url)\n",
        "data.head()"
      ],
      "execution_count": 1,
      "outputs": [
        {
          "output_type": "execute_result",
          "data": {
            "text/html": [
              "<div>\n",
              "<style scoped>\n",
              "    .dataframe tbody tr th:only-of-type {\n",
              "        vertical-align: middle;\n",
              "    }\n",
              "\n",
              "    .dataframe tbody tr th {\n",
              "        vertical-align: top;\n",
              "    }\n",
              "\n",
              "    .dataframe thead th {\n",
              "        text-align: right;\n",
              "    }\n",
              "</style>\n",
              "<table border=\"1\" class=\"dataframe\">\n",
              "  <thead>\n",
              "    <tr style=\"text-align: right;\">\n",
              "      <th></th>\n",
              "      <th>Hours</th>\n",
              "      <th>Scores</th>\n",
              "    </tr>\n",
              "  </thead>\n",
              "  <tbody>\n",
              "    <tr>\n",
              "      <th>0</th>\n",
              "      <td>2.5</td>\n",
              "      <td>21</td>\n",
              "    </tr>\n",
              "    <tr>\n",
              "      <th>1</th>\n",
              "      <td>5.1</td>\n",
              "      <td>47</td>\n",
              "    </tr>\n",
              "    <tr>\n",
              "      <th>2</th>\n",
              "      <td>3.2</td>\n",
              "      <td>27</td>\n",
              "    </tr>\n",
              "    <tr>\n",
              "      <th>3</th>\n",
              "      <td>8.5</td>\n",
              "      <td>75</td>\n",
              "    </tr>\n",
              "    <tr>\n",
              "      <th>4</th>\n",
              "      <td>3.5</td>\n",
              "      <td>30</td>\n",
              "    </tr>\n",
              "  </tbody>\n",
              "</table>\n",
              "</div>"
            ],
            "text/plain": [
              "   Hours  Scores\n",
              "0    2.5      21\n",
              "1    5.1      47\n",
              "2    3.2      27\n",
              "3    8.5      75\n",
              "4    3.5      30"
            ]
          },
          "metadata": {
            "tags": []
          },
          "execution_count": 1
        }
      ]
    },
    {
      "cell_type": "markdown",
      "metadata": {
        "id": "cD0mPYUbkem4"
      },
      "source": [
        "2. Plot a Graph "
      ]
    },
    {
      "cell_type": "code",
      "metadata": {
        "colab": {
          "base_uri": "https://localhost:8080/",
          "height": 295
        },
        "id": "5Zf7ThyO3bVG",
        "outputId": "fb038b67-d9be-4e5c-9b7c-286375d1fdb1"
      },
      "source": [
        "# Simple line plot \n",
        "x=data['Hours']\n",
        "y=data['Scores']\n",
        "\n",
        "# Plot\n",
        "plt.scatter(x,y,c='blue')\n",
        "\n",
        "# Decorate\n",
        "plt.title('Hours vs Scores')\n",
        "plt.xlabel('Hours')\n",
        "plt.ylabel('Score/Marks')\n",
        "\n",
        "plt.show()\n"
      ],
      "execution_count": 3,
      "outputs": [
        {
          "output_type": "display_data",
          "data": {
            "image/png": "[encoded data removed]",
            "text/plain": [
              "<Figure size 432x288 with 1 Axes>"
            ]
          },
          "metadata": {
            "tags": [],
            "needs_background": "light"
          }
        }
      ]
    },
    {
      "cell_type": "markdown",
      "metadata": {
        "id": "Fh4u-TYmkh8b"
      },
      "source": [
        "From the above graph we see that relation between hours and scores is linear. Hence for analysis , we use linear regression . \n"
      ]
    },
    {
      "cell_type": "markdown",
      "metadata": {
        "id": "UEJF1Z77l6nT"
      },
      "source": [
        "a line is represented by y=mx+b . x and y are the variables , m is the slope and b is the y-intercept . "
      ]
    },
    {
      "cell_type": "code",
      "metadata": {
        "colab": {
          "base_uri": "https://localhost:8080/"
        },
        "id": "f797h1WV4zQs",
        "outputId": "86ee3682-29af-453c-eead-7a412b5ae8e4"
      },
      "source": [
        "x=data.iloc[:,:-1].values\n",
        "y=data.iloc[:,1].values\n",
        "\n",
        "from sklearn.model_selection import train_test_split  \n",
        "X_train, X_test, y_train, y_test = train_test_split(x, y, \n",
        "                            test_size=0.2, random_state=0) # test size is 0.2 as we consider 20% of the sample as test set \n",
        "\n",
        "\n",
        "from sklearn.linear_model import LinearRegression  \n",
        "model = LinearRegression()  \n",
        "model.fit(X_train, y_train) \n",
        "\n",
        "print(\"Model trained.\")"
      ],
      "execution_count": 4,
      "outputs": [
        {
          "output_type": "stream",
          "text": [
            "Model trained.\n"
          ],
          "name": "stdout"
        }
      ]
    },
    {
      "cell_type": "code",
      "metadata": {
        "colab": {
          "base_uri": "https://localhost:8080/"
        },
        "id": "hULalIPC46su",
        "outputId": "749943c3-0a2e-4fbe-b30f-b66c52206f88"
      },
      "source": [
        "print ('Coefficients: ', model.coef_)\n",
        "print ('Intercept: ',model.intercept_)"
      ],
      "execution_count": 5,
      "outputs": [
        {
          "output_type": "stream",
          "text": [
            "Coefficients:  [9.91065648]\n",
            "Intercept:  2.018160041434662\n"
          ],
          "name": "stdout"
        }
      ]
    },
    {
      "cell_type": "code",
      "metadata": {
        "colab": {
          "base_uri": "https://localhost:8080/",
          "height": 281
        },
        "id": "qOW9BgrV5D7c",
        "outputId": "15548968-d44e-4868-8097-2803e8354fd8"
      },
      "source": [
        "# Plotting for the test data\n",
        "l = model.coef_*x+model.intercept_\n",
        "plt.title('Regression Line')\n",
        "plt.scatter(x, y)\n",
        "plt.plot(x, l)\n",
        "plt.show()\n"
      ],
      "execution_count": 7,
      "outputs": [
        {
          "output_type": "display_data",
          "data": {
            "image/png": "[encoded data removed]",
            "text/plain": [
              "<Figure size 432x288 with 1 Axes>"
            ]
          },
          "metadata": {
            "tags": [],
            "needs_background": "light"
          }
        }
      ]
    },
    {
      "cell_type": "code",
      "metadata": {
        "id": "EEd5Uocl5aMn"
      },
      "source": [
        "y_pred = model.predict(X_test)"
      ],
      "execution_count": 8,
      "outputs": []
    },
    {
      "cell_type": "code",
      "metadata": {
        "colab": {
          "base_uri": "https://localhost:8080/",
          "height": 204
        },
        "id": "UGc8P-M05hPd",
        "outputId": "faa2cea5-be65-48fa-a000-39c8af14e947"
      },
      "source": [
        "datafrm = pd.DataFrame({'Hours': X_test[:,0], 'Actual Score': y_test, 'Predicted Score': y_pred})  \n",
        "datafrm"
      ],
      "execution_count": 9,
      "outputs": [
        {
          "output_type": "execute_result",
          "data": {
            "text/html": [
              "<div>\n",
              "<style scoped>\n",
              "    .dataframe tbody tr th:only-of-type {\n",
              "        vertical-align: middle;\n",
              "    }\n",
              "\n",
              "    .dataframe tbody tr th {\n",
              "        vertical-align: top;\n",
              "    }\n",
              "\n",
              "    .dataframe thead th {\n",
              "        text-align: right;\n",
              "    }\n",
              "</style>\n",
              "<table border=\"1\" class=\"dataframe\">\n",
              "  <thead>\n",
              "    <tr style=\"text-align: right;\">\n",
              "      <th></th>\n",
              "      <th>Hours</th>\n",
              "      <th>Actual Score</th>\n",
              "      <th>Predicted Score</th>\n",
              "    </tr>\n",
              "  </thead>\n",
              "  <tbody>\n",
              "    <tr>\n",
              "      <th>0</th>\n",
              "      <td>1.5</td>\n",
              "      <td>20</td>\n",
              "      <td>16.884145</td>\n",
              "    </tr>\n",
              "    <tr>\n",
              "      <th>1</th>\n",
              "      <td>3.2</td>\n",
              "      <td>27</td>\n",
              "      <td>33.732261</td>\n",
              "    </tr>\n",
              "    <tr>\n",
              "      <th>2</th>\n",
              "      <td>7.4</td>\n",
              "      <td>69</td>\n",
              "      <td>75.357018</td>\n",
              "    </tr>\n",
              "    <tr>\n",
              "      <th>3</th>\n",
              "      <td>2.5</td>\n",
              "      <td>30</td>\n",
              "      <td>26.794801</td>\n",
              "    </tr>\n",
              "    <tr>\n",
              "      <th>4</th>\n",
              "      <td>5.9</td>\n",
              "      <td>62</td>\n",
              "      <td>60.491033</td>\n",
              "    </tr>\n",
              "  </tbody>\n",
              "</table>\n",
              "</div>"
            ],
            "text/plain": [
              "   Hours  Actual Score  Predicted Score\n",
              "0    1.5            20        16.884145\n",
              "1    3.2            27        33.732261\n",
              "2    7.4            69        75.357018\n",
              "3    2.5            30        26.794801\n",
              "4    5.9            62        60.491033"
            ]
          },
          "metadata": {
            "tags": []
          },
          "execution_count": 9
        }
      ]
    },
    {
      "cell_type": "markdown",
      "metadata": {
        "id": "43p_TDq7noZE"
      },
      "source": [
        "For 9.25 study hours "
      ]
    },
    {
      "cell_type": "code",
      "metadata": {
        "colab": {
          "base_uri": "https://localhost:8080/"
        },
        "id": "F35oeMvL6sSJ",
        "outputId": "e3123124-d7f9-44a6-ae40-311c9a101ed6"
      },
      "source": [
        "print('Number of hours: 9.25')\n",
        "print('Predicted score: ', model.predict([[9.25]])[0])"
      ],
      "execution_count": 10,
      "outputs": [
        {
          "output_type": "stream",
          "text": [
            "Number of hours: 9.25\n",
            "Predicted score:  93.69173248737539\n"
          ],
          "name": "stdout"
        }
      ]
    },
    {
      "cell_type": "markdown",
      "metadata": {
        "id": "T_xilM_WnvhS"
      },
      "source": [
        "EVAUATION - The accuracy of the model"
      ]
    },
    {
      "cell_type": "code",
      "metadata": {
        "colab": {
          "base_uri": "https://localhost:8080/"
        },
        "id": "ihkVKbNg6wbr",
        "outputId": "e6a9457c-e4ec-4590-ff5a-d32b8871c27c"
      },
      "source": [
        "from sklearn.metrics import r2_score\n",
        "print(\"Mean absolute error: %.2f\" % np.mean(np.absolute(y_pred - y_test)))\n",
        "print(\"Residual sum of squares (MSE): %.2f\" % np.mean((y_pred - y_test) ** 2))\n",
        "print(\"R2-score: %.2f\" % r2_score(y_pred , y_test) )\n"
      ],
      "execution_count": 11,
      "outputs": [
        {
          "output_type": "stream",
          "text": [
            "Mean absolute error: 4.18\n",
            "Residual sum of squares (MSE): 21.60\n",
            "R2-score: 0.95\n"
          ],
          "name": "stdout"
        }
      ]
    }
  ]
}